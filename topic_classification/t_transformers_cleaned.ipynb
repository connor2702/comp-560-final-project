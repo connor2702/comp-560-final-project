{
 "cells": [
  {
   "cell_type": "markdown",
   "metadata": {
    "id": "1RsvFP20yfjE"
   },
   "source": [
    "# DistilBERT"
   ]
  },
  {
   "cell_type": "code",
   "execution_count": null,
   "metadata": {
    "id": "CK18vUT2yZjE"
   },
   "outputs": [],
   "source": [
    "!pip install transformers datasets evaluate accelerate"
   ]
  },
  {
   "cell_type": "code",
   "execution_count": 2,
   "metadata": {
    "colab": {
     "base_uri": "https://localhost:8080/",
     "height": 336,
     "referenced_widgets": [
      "938055b99cb24a1dbb5b9e6eba881bec",
      "d187392633a443f39b728eab89c0d41e",
      "3966cf8b21414a1bbc19c769441913b1",
      "e8cfdefb5a794508abac9f64ae55229a",
      "3cc7424abe5c406e94aadf765b71d769",
      "2ef7ba67266a47b8aa518f253aa081e8",
      "635655b84b13409f9d5d2059d3f2ddc5",
      "8c489c9876784d57877da22dec8eb97e",
      "7b954a102cd047bda06ec4fe1712ea99",
      "cb7f8525627d4a788eb2100397ef2ce5",
      "75d777b3cda04f478f69cfd307cab4b2",
      "bff8a47fff0a408f91d6fbdd6a149d11",
      "0f816ef5957844e082b27d5007dfd226",
      "e180525828e3430183a847aff71cf2ad",
      "687ae9619ca84223822b0da3878d192d",
      "c2f08a4767e143aa915f8bd74b0732db",
      "eddf8485a36546d596bdd83adebeca9b",
      "b07c2125d8514ea0aed81f9a3baa3afe",
      "ad69d41057784a569a92f64bff90674d",
      "f71cd2c8b23944fb9169c549fc6b6571",
      "4407f206a4d04d208511bdfc6f642cf4",
      "531bad810e134de293b35d781fafe7be",
      "5946dcd6187f4b67ac2bed527d9f1b4e",
      "eaf4238d11c74cdb9d9f9a741add5883",
      "94b425191e4345c89315a5a54369da6e",
      "26bc655198d84fbc85024e100be7c5f4",
      "a014b5f864e642ff93ff8e6ab69101b3",
      "e7d6d474d1b74bf3b7d8b0783bee873e",
      "a61bc56b0bbe40e4b60747adfb14b5f5",
      "6892b86fdd8f4357a1f33b0444374c2b",
      "96a531b596464cb7903b17a7e0a069fb",
      "18b5702c4a70480b9891845228f44f08",
      "22cfb0874bbf4dc0938d43f98a4c729d",
      "7981c0244dbf4755aa749dc9382d5b2b",
      "b34be57862ac4952a3614aedf993cabe",
      "3ea02b1b1c0849dfa1a9f1451a9d7cef",
      "6cb8425467b44ae4b1e3bf9552cf03b8",
      "03ca0d2759ea4bbd87bec47c0f55e4f1",
      "bf5844a98dcf4a8680ec1d92e37fb294",
      "e854ca698ed2449bb6e6ef13a02ac3a7",
      "ec07367caa3d484db02c83ecff74f5f8",
      "c1b9a38be26f4f53822d41fcef2fb0f5",
      "90fa08c8669d467a836c402ca7be67a6",
      "b2fa98d427ba499391cfa61ec8cfac64",
      "0b6f6511b36d41bcbfbbee65e068c4bb",
      "95c9598e5f0f4cf7a6f081d97f6bbb20",
      "5dab7ce17a0246a79b25db68451403df",
      "988a6f236f8043ccab665e902f904bc8",
      "0f40e4e0601c4712a9890c2961c06fc2",
      "273f35be65cc4b52bb8dd1507f7d3bd2",
      "1bd5ece1ecfb426cb5c7ca4ba9a18741",
      "ef5b224835504fa2800a53301ac9ab41",
      "8a9b6e062f434a43906181bb54b7bd3d",
      "ebb60d651bdf4e48ade54ed7eb9955af",
      "6501a9e0402a485c874a832276effd15"
     ]
    },
    "id": "1W1NhNjlyq-Z",
    "outputId": "d2209006-38c5-4615-b983-01efe3057fc0"
   },
   "outputs": [
    {
     "name": "stderr",
     "output_type": "stream",
     "text": [
      "/usr/local/lib/python3.11/dist-packages/huggingface_hub/utils/_auth.py:94: UserWarning: \n",
      "The secret `HF_TOKEN` does not exist in your Colab secrets.\n",
      "To authenticate with the Hugging Face Hub, create a token in your settings tab (https://huggingface.co/settings/tokens), set it as secret in your Google Colab and restart your session.\n",
      "You will be able to reuse this secret in all of your notebooks.\n",
      "Please note that authentication is recommended but still optional to access public models or datasets.\n",
      "  warnings.warn(\n"
     ]
    },
    {
     "data": {
      "application/vnd.jupyter.widget-view+json": {
       "model_id": "938055b99cb24a1dbb5b9e6eba881bec",
       "version_major": 2,
       "version_minor": 0
      },
      "text/plain": [
       "README.md:   0%|          | 0.00/734 [00:00<?, ?B/s]"
      ]
     },
     "metadata": {},
     "output_type": "display_data"
    },
    {
     "name": "stderr",
     "output_type": "stream",
     "text": [
      "Repo card metadata block was not found. Setting CardData to empty.\n",
      "WARNING:huggingface_hub.repocard:Repo card metadata block was not found. Setting CardData to empty.\n"
     ]
    },
    {
     "data": {
      "application/vnd.jupyter.widget-view+json": {
       "model_id": "bff8a47fff0a408f91d6fbdd6a149d11",
       "version_major": 2,
       "version_minor": 0
      },
      "text/plain": [
       "train.jsonl:   0%|          | 0.00/14.8M [00:00<?, ?B/s]"
      ]
     },
     "metadata": {},
     "output_type": "display_data"
    },
    {
     "data": {
      "application/vnd.jupyter.widget-view+json": {
       "model_id": "5946dcd6187f4b67ac2bed527d9f1b4e",
       "version_major": 2,
       "version_minor": 0
      },
      "text/plain": [
       "test.jsonl:   0%|          | 0.00/8.91M [00:00<?, ?B/s]"
      ]
     },
     "metadata": {},
     "output_type": "display_data"
    },
    {
     "data": {
      "application/vnd.jupyter.widget-view+json": {
       "model_id": "7981c0244dbf4755aa749dc9382d5b2b",
       "version_major": 2,
       "version_minor": 0
      },
      "text/plain": [
       "Generating train split:   0%|          | 0/11314 [00:00<?, ? examples/s]"
      ]
     },
     "metadata": {},
     "output_type": "display_data"
    },
    {
     "data": {
      "application/vnd.jupyter.widget-view+json": {
       "model_id": "0b6f6511b36d41bcbfbbee65e068c4bb",
       "version_major": 2,
       "version_minor": 0
      },
      "text/plain": [
       "Generating test split:   0%|          | 0/7532 [00:00<?, ? examples/s]"
      ]
     },
     "metadata": {},
     "output_type": "display_data"
    }
   ],
   "source": [
    "from datasets import load_dataset\n",
    "\n",
    "news = load_dataset(\"SetFit/20_newsgroups\")"
   ]
  },
  {
   "cell_type": "code",
   "execution_count": 3,
   "metadata": {
    "colab": {
     "base_uri": "https://localhost:8080/"
    },
    "id": "T0IKZzI9yrUO",
    "outputId": "4f73aea4-583b-4066-b01a-765f2d86f1ec"
   },
   "outputs": [
    {
     "data": {
      "text/plain": [
       "{'text': 'I am a little confused on all of the models of the 88-89 bonnevilles.\\nI have heard of the LE SE LSE SSE SSEI. Could someone tell me the\\ndifferences are far as features or performance. I am also curious to\\nknow what the book value is for prefereably the 89 model. And how much\\nless than book value can you usually get them for. In other words how\\nmuch are they in demand this time of year. I have heard that the mid-spring\\nearly summer is the best time to buy.',\n",
       " 'label': 7,\n",
       " 'label_text': 'rec.autos'}"
      ]
     },
     "execution_count": 3,
     "metadata": {},
     "output_type": "execute_result"
    }
   ],
   "source": [
    "news[\"test\"][0]"
   ]
  },
  {
   "cell_type": "code",
   "execution_count": 4,
   "metadata": {
    "colab": {
     "base_uri": "https://localhost:8080/",
     "height": 145,
     "referenced_widgets": [
      "130a84dd40d04d22bd92d42d3e0d3c13",
      "a72bdfbe6a804dfcb31406d4b2451e50",
      "afe908d7d4f74cc3bf7dd23cd45f8610",
      "eccbfb046d874139ab12b11da8935b1c",
      "d9b9fd8c475e4501b79f424c899a4cc5",
      "971a9c28b8694b309999147c7e316220",
      "ca94bf3f662c416d80a2389f38b56634",
      "ea5933f8b4c54bd4ad8bf8ccda9318b9",
      "570dfc4b28ec439494c5e7fff0928462",
      "99f6151a875b490a8ef1b944e1ed4ef4",
      "7d44e02562c84cba805ac5cf71c52f37",
      "9abdaa85e4414ddaa7451956581db92a",
      "a0170c001ddd4582bef0c4ea2d8b23af",
      "8e7cf5b55c6c474da5e2350c59483bd5",
      "8d03b82fd3e94fd5a74975a7b18ac4b1",
      "1e37431b0c20430fa9603fd99a054118",
      "c4820541ad92469e85ac216de814691d",
      "c480b749a07840c69472eda11713a6c1",
      "427978ca966b49ed98867c4cb83ba614",
      "758415be985249f0b4587c9127d805b1",
      "2dc35ae0008247c392c204cce46f8b74",
      "73dc2014eea24f40a8cb879682bd615a",
      "d53d62f63f6f4feaa7279b2f7a41345c",
      "604b575f0ea04fc6815118f59678a52f",
      "ae5f3eca6e3440c4a012a7d3ce5f7eaa",
      "2c20890ba8e3471c87243c3dc58c07e4",
      "200d0a2cba8945e398e8f4e11492ad1c",
      "db45345c27894e36bbd1516a5f8ef228",
      "540ebd9b828e48879f7219d92649936c",
      "73035e19ca004b21861c8a6dc7dd68bf",
      "7ea5e755bbdd4afdb0a1d70aef9e9b1c",
      "b03a5255e6eb48bf9b38a4d1f7358ff9",
      "48f38d34b381473dbf7b51b4afe43dfc",
      "87682de2f09441a68ca0fa3121c6922f",
      "7be5bfec01884fe88dae1a4a4ef24b0c",
      "03c4abcc4447422fbacdb87170e47c17",
      "301e4280ba3d4450a4ac0785c84e9e9b",
      "2f366068f4974410be75046f8f8478ac",
      "ede79bb6f5d5438d9667bf9447d0c557",
      "f73e909b7fd7426aa7b535367149455f",
      "3ec77787e01740b2a055a64f6f17f8e8",
      "c3019f6b95724f778cea8ea8364200e0",
      "7cb379b20243462e83682893e534feb7",
      "a3d938c3101b4dcba3f43e38057bc67a"
     ]
    },
    "id": "wnD36FrFyrmq",
    "outputId": "53d64da1-9408-4b99-a0e7-b1c536160665"
   },
   "outputs": [
    {
     "data": {
      "application/vnd.jupyter.widget-view+json": {
       "model_id": "130a84dd40d04d22bd92d42d3e0d3c13",
       "version_major": 2,
       "version_minor": 0
      },
      "text/plain": [
       "tokenizer_config.json:   0%|          | 0.00/48.0 [00:00<?, ?B/s]"
      ]
     },
     "metadata": {},
     "output_type": "display_data"
    },
    {
     "data": {
      "application/vnd.jupyter.widget-view+json": {
       "model_id": "9abdaa85e4414ddaa7451956581db92a",
       "version_major": 2,
       "version_minor": 0
      },
      "text/plain": [
       "config.json:   0%|          | 0.00/483 [00:00<?, ?B/s]"
      ]
     },
     "metadata": {},
     "output_type": "display_data"
    },
    {
     "data": {
      "application/vnd.jupyter.widget-view+json": {
       "model_id": "d53d62f63f6f4feaa7279b2f7a41345c",
       "version_major": 2,
       "version_minor": 0
      },
      "text/plain": [
       "vocab.txt:   0%|          | 0.00/232k [00:00<?, ?B/s]"
      ]
     },
     "metadata": {},
     "output_type": "display_data"
    },
    {
     "data": {
      "application/vnd.jupyter.widget-view+json": {
       "model_id": "87682de2f09441a68ca0fa3121c6922f",
       "version_major": 2,
       "version_minor": 0
      },
      "text/plain": [
       "tokenizer.json:   0%|          | 0.00/466k [00:00<?, ?B/s]"
      ]
     },
     "metadata": {},
     "output_type": "display_data"
    }
   ],
   "source": [
    "from transformers import AutoTokenizer\n",
    "\n",
    "tokenizer = AutoTokenizer.from_pretrained(\"distilbert/distilbert-base-uncased\")"
   ]
  },
  {
   "cell_type": "code",
   "execution_count": 5,
   "metadata": {
    "id": "MZy74FEvyrz2"
   },
   "outputs": [],
   "source": [
    "def preprocess_function(examples):\n",
    "    return tokenizer(examples[\"text\"], truncation=True)"
   ]
  },
  {
   "cell_type": "code",
   "execution_count": 6,
   "metadata": {
    "colab": {
     "base_uri": "https://localhost:8080/",
     "height": 81,
     "referenced_widgets": [
      "17dd5311ee2c49e5882d6266f7442a9f",
      "8f23a225fce343e9b629e873db358f4b",
      "21f2f201bd584e5ca73a789c6b278ba0",
      "a925837955884cff8e2e069ece830c4b",
      "467601a8fea6408f8470d7bcc8e031c9",
      "5ae72f153ba14d4990b47bea3c249cf2",
      "f1a0d205eaca4b8694ffc423544d8948",
      "58a98899592f4faba85ee1b7afcb29d8",
      "e5f0e0c483c54606a83c359e31b62870",
      "1fac5f26b5b14b2c9f94817e5857a12c",
      "bf118843412847b9b984a7719896f8fd",
      "717547fa45bc41de9230a643ef456814",
      "992ab0cf79af48f0a66c11f14039ad2f",
      "a46c8cdcd3234c23a99af07ef9806cd3",
      "473f2dbe58994686aa8f316169679d5b",
      "7df0ac21d59e4b2a8868fab5d70d273b",
      "bef296d49dfb413090209b14d3add8cd",
      "de01e9c7bda54e9ba60746626185cd82",
      "c7995f27682f4768808429eb137fe207",
      "6913d8c09fc947119db7ec0a5b18e634",
      "5caf80c0389e4d2090af1b0bff3bfc63",
      "45eb8d2799ec4fc0bf7a15a73b2b3ca8"
     ]
    },
    "id": "0Vzl_-Jbyr_5",
    "outputId": "0a3d3c4d-9db0-4844-9dd6-8cf29ac508cb"
   },
   "outputs": [
    {
     "data": {
      "application/vnd.jupyter.widget-view+json": {
       "model_id": "17dd5311ee2c49e5882d6266f7442a9f",
       "version_major": 2,
       "version_minor": 0
      },
      "text/plain": [
       "Map:   0%|          | 0/11314 [00:00<?, ? examples/s]"
      ]
     },
     "metadata": {},
     "output_type": "display_data"
    },
    {
     "data": {
      "application/vnd.jupyter.widget-view+json": {
       "model_id": "717547fa45bc41de9230a643ef456814",
       "version_major": 2,
       "version_minor": 0
      },
      "text/plain": [
       "Map:   0%|          | 0/7532 [00:00<?, ? examples/s]"
      ]
     },
     "metadata": {},
     "output_type": "display_data"
    }
   ],
   "source": [
    "tokenized_news = news.map(preprocess_function, batched=True)"
   ]
  },
  {
   "cell_type": "code",
   "execution_count": 7,
   "metadata": {
    "id": "jtgj5U-DysX3"
   },
   "outputs": [],
   "source": [
    "from transformers import DataCollatorWithPadding\n",
    "\n",
    "data_collator = DataCollatorWithPadding(tokenizer=tokenizer)"
   ]
  },
  {
   "cell_type": "code",
   "execution_count": 8,
   "metadata": {
    "colab": {
     "base_uri": "https://localhost:8080/",
     "height": 145,
     "referenced_widgets": [
      "8f19bf260484489aa9f5f5573c828524",
      "abff0bc52952426a99e0c472aca221c7",
      "2ceb4bda4b424ab3b3c293924675c991",
      "cf269d824438400c8d776c77c29f7a85",
      "91d2349f7a8c4cae8dc68789b40d58d1",
      "dfd71b087aa144ab80fb18a30e4cd71d",
      "b6c87665b9134f9a8a649473444b7b9a",
      "819f606b98994b45a452efe9ea62fcd3",
      "7f0c2cb084f34c57816270e6be7647ea",
      "992e202c841447759a208aa9b8010c80",
      "6d4f54e76511479785de472e46042f27",
      "2d8c2cecd66d4b4ab1cce1a8a0eee0d4",
      "6d226a9043424b82abac2a5ff15e9603",
      "f73d804ee7c64dbd84c714faa91269ea",
      "18e9e4cee9fb4b7ea2b37d7d28c07e7b",
      "98e43aeda61d4998855a575d6b3f6c2c",
      "7d0ebde843c9419694a7519267505f3e",
      "570009601223478d9b5be7e82810e009",
      "fd541bd219f5478cb3e385d72ece504f",
      "3446edcf587b442a8ad389296e6c7802",
      "705c0c9fb9da4ddea51c21b66fdc172a",
      "ecfda55618044a6e87abcb8af3bc5466",
      "8a45cc16c6004348a30ea089fec06335",
      "6be12b596f60423bbe3ddf044e1052ac",
      "3cc1ced538d149d1a983e28db5d32c0f",
      "034aaf46c7d04572906e10f2596de298",
      "c9d259b114044623be4f0f893830b19d",
      "fb6e97334a754c3cb8cf3720cdafe50c",
      "354f5219e22e4f5b8905f797ec78d06a",
      "740dae75cf8b4722b45fe0c4bebd482d",
      "5196d5d59c754e8781835ff6c5eeb5fb",
      "5a701391891a4b879db884a2c192496a",
      "f90cb449ff5f4698a3611b1b8bee6f1e",
      "f9009bf2a63a4426a20d982d66648346",
      "f4304fe861124434bfae7139e1d9dcd2",
      "153cbdd3bfd54774a28796ea70bea3df",
      "a96c7f0cadd54b12ae57b9cd5afbd164",
      "01642177c9c746feb976e65cd408bc11",
      "94bb71dd0699492e9c32b0cd5beff842",
      "52afe0d10be04f80813d9744805d8787",
      "306b1e897d874fed92bae63347f250f3",
      "718fc97d9de4445fb1ecde7ed2f860d2",
      "8f72556981d74249b3991c45eb119605",
      "e6c7b15480fa4ecd993b659439c334bd"
     ]
    },
    "id": "nGpXJYr5ysr_",
    "outputId": "3a9e7e14-36ff-49f3-c977-7c06071dc9a6"
   },
   "outputs": [
    {
     "data": {
      "application/vnd.jupyter.widget-view+json": {
       "model_id": "8f19bf260484489aa9f5f5573c828524",
       "version_major": 2,
       "version_minor": 0
      },
      "text/plain": [
       "Downloading builder script:   0%|          | 0.00/4.20k [00:00<?, ?B/s]"
      ]
     },
     "metadata": {},
     "output_type": "display_data"
    },
    {
     "data": {
      "application/vnd.jupyter.widget-view+json": {
       "model_id": "2d8c2cecd66d4b4ab1cce1a8a0eee0d4",
       "version_major": 2,
       "version_minor": 0
      },
      "text/plain": [
       "Downloading builder script:   0%|          | 0.00/6.79k [00:00<?, ?B/s]"
      ]
     },
     "metadata": {},
     "output_type": "display_data"
    },
    {
     "data": {
      "application/vnd.jupyter.widget-view+json": {
       "model_id": "8a45cc16c6004348a30ea089fec06335",
       "version_major": 2,
       "version_minor": 0
      },
      "text/plain": [
       "Downloading builder script:   0%|          | 0.00/7.56k [00:00<?, ?B/s]"
      ]
     },
     "metadata": {},
     "output_type": "display_data"
    },
    {
     "data": {
      "application/vnd.jupyter.widget-view+json": {
       "model_id": "f9009bf2a63a4426a20d982d66648346",
       "version_major": 2,
       "version_minor": 0
      },
      "text/plain": [
       "Downloading builder script:   0%|          | 0.00/7.38k [00:00<?, ?B/s]"
      ]
     },
     "metadata": {},
     "output_type": "display_data"
    }
   ],
   "source": [
    "import evaluate\n",
    "\n",
    "accuracy = evaluate.load(\"accuracy\")\n",
    "f1 = evaluate.load(\"f1\")\n",
    "precision = evaluate.load(\"precision\")\n",
    "recall = evaluate.load(\"recall\")"
   ]
  },
  {
   "cell_type": "code",
   "execution_count": 13,
   "metadata": {
    "id": "LVoOwLryytI-"
   },
   "outputs": [],
   "source": [
    "import numpy as np\n",
    "\n",
    "def compute_metrics(eval_pred):\n",
    "    predictions, labels = eval_pred\n",
    "    predictions = np.argmax(predictions, axis=1)\n",
    "    return {\n",
    "        'accuracy': accuracy.compute(predictions=predictions, references=labels),\n",
    "        'f1': f1.compute(predictions=predictions, references=labels, average='weighted'),\n",
    "        'precision': precision.compute(predictions=predictions, references=labels, average='weighted'),\n",
    "        'recall': recall.compute(predictions=predictions, references=labels, average='weighted')\n",
    "    }"
   ]
  },
  {
   "cell_type": "code",
   "execution_count": 14,
   "metadata": {
    "colab": {
     "base_uri": "https://localhost:8080/"
    },
    "id": "TUayuOd-yt0Q",
    "outputId": "46266da5-6adb-4904-b69e-7aa7a40aab68"
   },
   "outputs": [
    {
     "name": "stderr",
     "output_type": "stream",
     "text": [
      "Some weights of DistilBertForSequenceClassification were not initialized from the model checkpoint at distilbert/distilbert-base-uncased and are newly initialized: ['classifier.bias', 'classifier.weight', 'pre_classifier.bias', 'pre_classifier.weight']\n",
      "You should probably TRAIN this model on a down-stream task to be able to use it for predictions and inference.\n"
     ]
    }
   ],
   "source": [
    "from transformers import AutoModelForSequenceClassification, TrainingArguments, Trainer\n",
    "\n",
    "model = AutoModelForSequenceClassification.from_pretrained(\n",
    "    \"distilbert/distilbert-base-uncased\", num_labels=20\n",
    ")"
   ]
  },
  {
   "cell_type": "code",
   "execution_count": 15,
   "metadata": {
    "colab": {
     "base_uri": "https://localhost:8080/",
     "height": 172
    },
    "id": "XdKv1lm4yuF3",
    "outputId": "5eea1a97-e9bd-418b-e685-06fea52020da"
   },
   "outputs": [
    {
     "data": {
      "text/html": [
       "\n",
       "    <div>\n",
       "      \n",
       "      <progress value='2830' max='2830' style='width:300px; height:20px; vertical-align: middle;'></progress>\n",
       "      [2830/2830 19:11, Epoch 2/2]\n",
       "    </div>\n",
       "    <table border=\"1\" class=\"dataframe\">\n",
       "  <thead>\n",
       " <tr style=\"text-align: left;\">\n",
       "      <th>Epoch</th>\n",
       "      <th>Training Loss</th>\n",
       "      <th>Validation Loss</th>\n",
       "      <th>Accuracy</th>\n",
       "      <th>F1</th>\n",
       "      <th>Precision</th>\n",
       "      <th>Recall</th>\n",
       "    </tr>\n",
       "  </thead>\n",
       "  <tbody>\n",
       "    <tr>\n",
       "      <td>1</td>\n",
       "      <td>1.073000</td>\n",
       "      <td>1.055420</td>\n",
       "      <td>{'accuracy': 0.6878651088688263}</td>\n",
       "      <td>{'f1': 0.6789838453908376}</td>\n",
       "      <td>{'precision': 0.685877318016918}</td>\n",
       "      <td>{'recall': 0.6878651088688263}</td>\n",
       "    </tr>\n",
       "    <tr>\n",
       "      <td>2</td>\n",
       "      <td>0.608400</td>\n",
       "      <td>1.059915</td>\n",
       "      <td>{'accuracy': 0.7048592671269251}</td>\n",
       "      <td>{'f1': 0.7031202186414428}</td>\n",
       "      <td>{'precision': 0.7085030469485156}</td>\n",
       "      <td>{'recall': 0.7048592671269251}</td>\n",
       "    </tr>\n",
       "  </tbody>\n",
       "</table><p>"
      ],
      "text/plain": [
       "<IPython.core.display.HTML object>"
      ]
     },
     "metadata": {},
     "output_type": "display_data"
    },
    {
     "data": {
      "text/plain": [
       "TrainOutput(global_step=2830, training_loss=0.9299364177582542, metrics={'train_runtime': 1152.2622, 'train_samples_per_second': 19.638, 'train_steps_per_second': 2.456, 'total_flos': 2516100455732160.0, 'train_loss': 0.9299364177582542, 'epoch': 2.0})"
      ]
     },
     "execution_count": 15,
     "metadata": {},
     "output_type": "execute_result"
    }
   ],
   "source": [
    "training_args = TrainingArguments(\n",
    "    output_dir=\"./results\",\n",
    "    eval_strategy=\"epoch\",\n",
    "    num_train_epochs=2,\n",
    "    report_to=\"none\",\n",
    ")\n",
    "\n",
    "trainer = Trainer(\n",
    "    model=model,\n",
    "    args=training_args,\n",
    "    train_dataset=tokenized_news[\"train\"],\n",
    "    eval_dataset=tokenized_news[\"test\"],\n",
    "    processing_class=tokenizer,\n",
    "    data_collator=data_collator,\n",
    "    compute_metrics=compute_metrics,\n",
    ")\n",
    "\n",
    "trainer.train()"
   ]
  }
 ],
 "metadata": {
  "accelerator": "GPU",
  "colab": {
   "gpuType": "T4",
   "provenance": []
  },
  "kernelspec": {
   "display_name": "Python 3",
   "name": "python3"
  },
  "language_info": {
   "name": "python"
  }
 },
 "nbformat": 4,
 "nbformat_minor": 0
}
