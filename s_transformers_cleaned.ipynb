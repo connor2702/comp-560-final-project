{
 "cells": [
  {
   "cell_type": "markdown",
   "id": "c3b19f09",
   "metadata": {
    "id": "c3b19f09"
   },
   "source": [
    "# DistilBERT"
   ]
  },
  {
   "cell_type": "code",
   "execution_count": null,
   "id": "3dac2abe",
   "metadata": {
    "id": "3dac2abe"
   },
   "outputs": [],
   "source": [
    "!pip install transformers datasets evaluate accelerate"
   ]
  },
  {
   "cell_type": "code",
   "execution_count": 2,
   "id": "750efa06",
   "metadata": {
    "colab": {
     "base_uri": "https://localhost:8080/",
     "height": 365,
     "referenced_widgets": [
      "c11052145b024fd18fd133d19b101b76",
      "9240f8d5119e43918d5d1cbef542239d",
      "cdd6bfb1f0f645d2b4a823e5b3570aa1",
      "58bc4536d9cb44988dfc71ca5d23fcf0",
      "d78df20b1c9f40fea390c9ef773e5e61",
      "b96a14ab6b18465ebbb82f4a02747c82",
      "635a365799f74d79ace7c0915b80863f",
      "ff53cd9d97144ef1885b03dd06f7ba1a",
      "83e325bd9fd64879976085fcfbac0d4d",
      "813be58311e141528754b9f432f23d31",
      "f969b501623e40e7b640e25985d6f5e4",
      "e1cdb89edc4a43948dd31c734c4cb1be",
      "25bba675625c41e5a912f4fe84f0afbe",
      "47483813e13a43e38f443f04409fd898",
      "0d6aeafd6ccc4754b0c91594bf029697",
      "5945799c033943d49892162db7c27194",
      "008ba6af4c034d948b9dfcd11def19ea",
      "fd82c351736443d286a3047c1d6a5905",
      "06556abe77384dc8b1bf9b4a2b6f7673",
      "fd2110eb9afe46c3b3b24cd0c49ec098",
      "dffd3e9c552c4774b58174a7acdf97dc",
      "e70ddf8457f74e358fbe11350f49335e",
      "3c6f2ebf3c7448589549d94da2bdf9e1",
      "3d23a072c872493dbb66fcfe0d41f84a",
      "cd35ba6c0e3141ab920d2f1597bb5cc6",
      "007d9cf8cd3f44f0846af712a62bc1c6",
      "88498660c0744906810c57226b57fe95",
      "95a56c3b2acc4c8ead47806bf32f7a52",
      "8d7e759afa1b4998afd8c70a1d970e9a",
      "8ef6b012ba304c1394d21e9450dcc199",
      "68d29809b43c430d9d8a06ad859bc0bc",
      "74a6b8e99c714e9f87937f9ebd48e99f",
      "8685b8cfb2c840cc92abf7a53113b543",
      "d8bb36e0234842d884458198c5a872e7",
      "b73d6f18916b4cdc99f2319af04feddd",
      "04ebce98a7404f0aa5e4c2f7c462d4c1",
      "79fc6ff2560d4de6a59808560352c3e1",
      "1489e44b31eb4ea2a8f64849e39b935b",
      "797f0df5edb84969b479efecf5498d46",
      "28e4ef66ac9e4c5792f085a572bf1f42",
      "c17b1c5878e442ff93656858612d8122",
      "1d406edfe9c04f45aeb6d255f338966a",
      "4f68197959664012aaa3947fa4e1b199",
      "e57cd26645ac4e20abbe7ec361d6ee04",
      "e737da58d3c049ee8cf2ecc25d8af9f2",
      "8d2b5bab230441d8991384968d3a9c94",
      "11f78524c0e64ab181b2184a0a03f70c",
      "98a46c0937ae48d684acf4e6ba98968c",
      "fcef6b2b23c241578467d3b3d8a2c94d",
      "270aa42a25ea4659ae84126e8cd3bfbe",
      "c05bec19fd304fb7b273a83b6d71c97b",
      "f00d6092e7124cfd8704209e503d34d6",
      "7522e6ca13a2492aabacea673d734ebc",
      "8fa415202341430fa7afa9fc40534f7b",
      "14d6635574ea414aaf6ddcf2aa726389",
      "8c273f04f13f4b70bd9e882f22e2a8f3",
      "c144a15e1f544f5a8b0742529173023b",
      "1bc731d2a11f4a36a58dbff96883e66b",
      "b989ba9bf5df48af8bc2d85ae771eb43",
      "e5617c166288474da7faa736bc0e012c",
      "f75275df091e4442a2fe1e385666d7f4",
      "57a12ddb4ba34e51805f55e34d619735",
      "9a65d7402be04722ac6ff403ba1dc646",
      "772dede8b709452ea3611e5dc7ef0c99",
      "d55452b551764f7eb2175888ff958d79",
      "af28f56049c64be2bd46d2d65d48d441",
      "380e450f2e8a4220b77667053ae8c8a0",
      "c74ce7ce1252468e84741a35164245c0",
      "757dad7323d34612acd78d96b220f0f8",
      "37ee63751d7f4eeab2531585b3e6541e",
      "1dae04414ed345a2aaa44af1533ca923",
      "a68b7165d3684190b75a1039b4ce84bd",
      "749ef3abcaed4593a3ad216c362202af",
      "ad1729ffef4343d5bf28d8f5c93fa410",
      "e73dcd9e6e8847b3bf716594121ccf1f",
      "d508020a09f3490694c30ab26e330ae8",
      "bad26c2845d5414cb6bb658c83e9d86a"
     ]
    },
    "id": "750efa06",
    "outputId": "ad1571e1-8bb1-4bb9-9229-1bc459cd665e"
   },
   "outputs": [
    {
     "name": "stderr",
     "output_type": "stream",
     "text": [
      "/usr/local/lib/python3.11/dist-packages/huggingface_hub/utils/_auth.py:94: UserWarning: \n",
      "The secret `HF_TOKEN` does not exist in your Colab secrets.\n",
      "To authenticate with the Hugging Face Hub, create a token in your settings tab (https://huggingface.co/settings/tokens), set it as secret in your Google Colab and restart your session.\n",
      "You will be able to reuse this secret in all of your notebooks.\n",
      "Please note that authentication is recommended but still optional to access public models or datasets.\n",
      "  warnings.warn(\n"
     ]
    },
    {
     "data": {
      "application/vnd.jupyter.widget-view+json": {
       "model_id": "c11052145b024fd18fd133d19b101b76",
       "version_major": 2,
       "version_minor": 0
      },
      "text/plain": [
       "README.md:   0%|          | 0.00/7.81k [00:00<?, ?B/s]"
      ]
     },
     "metadata": {},
     "output_type": "display_data"
    },
    {
     "data": {
      "application/vnd.jupyter.widget-view+json": {
       "model_id": "e1cdb89edc4a43948dd31c734c4cb1be",
       "version_major": 2,
       "version_minor": 0
      },
      "text/plain": [
       "train-00000-of-00001.parquet:   0%|          | 0.00/21.0M [00:00<?, ?B/s]"
      ]
     },
     "metadata": {},
     "output_type": "display_data"
    },
    {
     "data": {
      "application/vnd.jupyter.widget-view+json": {
       "model_id": "3c6f2ebf3c7448589549d94da2bdf9e1",
       "version_major": 2,
       "version_minor": 0
      },
      "text/plain": [
       "test-00000-of-00001.parquet:   0%|          | 0.00/20.5M [00:00<?, ?B/s]"
      ]
     },
     "metadata": {},
     "output_type": "display_data"
    },
    {
     "data": {
      "application/vnd.jupyter.widget-view+json": {
       "model_id": "d8bb36e0234842d884458198c5a872e7",
       "version_major": 2,
       "version_minor": 0
      },
      "text/plain": [
       "unsupervised-00000-of-00001.parquet:   0%|          | 0.00/42.0M [00:00<?, ?B/s]"
      ]
     },
     "metadata": {},
     "output_type": "display_data"
    },
    {
     "data": {
      "application/vnd.jupyter.widget-view+json": {
       "model_id": "e737da58d3c049ee8cf2ecc25d8af9f2",
       "version_major": 2,
       "version_minor": 0
      },
      "text/plain": [
       "Generating train split:   0%|          | 0/25000 [00:00<?, ? examples/s]"
      ]
     },
     "metadata": {},
     "output_type": "display_data"
    },
    {
     "data": {
      "application/vnd.jupyter.widget-view+json": {
       "model_id": "8c273f04f13f4b70bd9e882f22e2a8f3",
       "version_major": 2,
       "version_minor": 0
      },
      "text/plain": [
       "Generating test split:   0%|          | 0/25000 [00:00<?, ? examples/s]"
      ]
     },
     "metadata": {},
     "output_type": "display_data"
    },
    {
     "data": {
      "application/vnd.jupyter.widget-view+json": {
       "model_id": "380e450f2e8a4220b77667053ae8c8a0",
       "version_major": 2,
       "version_minor": 0
      },
      "text/plain": [
       "Generating unsupervised split:   0%|          | 0/50000 [00:00<?, ? examples/s]"
      ]
     },
     "metadata": {},
     "output_type": "display_data"
    }
   ],
   "source": [
    "from datasets import load_dataset\n",
    "\n",
    "imdb = load_dataset(\"imdb\")"
   ]
  },
  {
   "cell_type": "code",
   "execution_count": 3,
   "id": "cc67abfd",
   "metadata": {
    "colab": {
     "base_uri": "https://localhost:8080/"
    },
    "id": "cc67abfd",
    "outputId": "d0daca8e-a9d1-4c10-f3ac-571afd46904a"
   },
   "outputs": [
    {
     "data": {
      "text/plain": [
       "{'text': 'I love sci-fi and am willing to put up with a lot. Sci-fi movies/TV are usually underfunded, under-appreciated and misunderstood. I tried to like this, I really did, but it is to good TV sci-fi as Babylon 5 is to Star Trek (the original). Silly prosthetics, cheap cardboard sets, stilted dialogues, CG that doesn\\'t match the background, and painfully one-dimensional characters cannot be overcome with a \\'sci-fi\\' setting. (I\\'m sure there are those of you out there who think Babylon 5 is good sci-fi TV. It\\'s not. It\\'s clichéd and uninspiring.) While US viewers might like emotion and character development, sci-fi is a genre that does not take itself seriously (cf. Star Trek). It may treat important issues, yet not as a serious philosophy. It\\'s really difficult to care about the characters here as they are not simply foolish, just missing a spark of life. Their actions and reactions are wooden and predictable, often painful to watch. The makers of Earth KNOW it\\'s rubbish as they have to always say \"Gene Roddenberry\\'s Earth...\" otherwise people would not continue watching. Roddenberry\\'s ashes must be turning in their orbit as this dull, cheap, poorly edited (watching it without advert breaks really brings this home) trudging Trabant of a show lumbers into space. Spoiler. So, kill off a main character. And then bring him back as another actor. Jeeez! Dallas all over again.',\n",
       " 'label': 0}"
      ]
     },
     "execution_count": 3,
     "metadata": {},
     "output_type": "execute_result"
    }
   ],
   "source": [
    "imdb[\"test\"][0]"
   ]
  },
  {
   "cell_type": "code",
   "execution_count": 4,
   "id": "82c55295",
   "metadata": {
    "colab": {
     "base_uri": "https://localhost:8080/",
     "height": 145,
     "referenced_widgets": [
      "150e3b36d3454fcc9bd562c9cbf8f4f8",
      "84c28513cf304c909a176574755afb0f",
      "f950bc5867ca4505ae12e98cfe99d6c8",
      "ebb0599e97544dedb499349de3f62590",
      "3322bef6519547aa8f905bb158de2849",
      "0bdaa291fb70444598341fed99e0cc3e",
      "2f2478f430d24d3ea08aea9f84ef80e9",
      "edcfe8f413de4103bbc131f35bf22e20",
      "23127eafe14849e1b1053f3a185ec9ac",
      "4a4554dc076a420ca7167ff57ddd8774",
      "b10cad55423e429fafb203d74a010a5a",
      "552da4f318974d90a24f290ede564111",
      "f9d3efbe34784286ad9784b41c5436a1",
      "76887f568661438d9574de7f80edfa82",
      "26dee94877e346bd8761097e6853f1d4",
      "3cc8dd8f37ed4f3087ac3f6174c039bd",
      "9ee46b20265140d18af5cef9460d7dd7",
      "69d54453bb0a4359ac12d2795dce0977",
      "a2300c2abf0a487fbd55fabe7a143240",
      "fafd9292678845bba3ba46adb97d584f",
      "e59ce7bc21b24a81a554fb179a0c005e",
      "aaacd0ac813f4a97bf0afec4a96174aa",
      "3228c59bcbd1461980d68bac795c7238",
      "e619141e44e6401dbca29b1f2487d285",
      "9db9631a7a05422fbc3a43a955541b96",
      "c17f410001f5458ca367654807839e2a",
      "8541ba4c7a124f97a4f6aa4159242a2f",
      "690777905850464fa359f08c589e0df7",
      "ca0aa7014308475cbfe3dd39cf05a91d",
      "a70f77df22f74913a83f4a1f6bd70b8e",
      "7abfcdeb1aee47949a327579d63fe971",
      "77c0c0096a4e4216b0666ff8c5537c4b",
      "fb529940abcf457c8c0e3c0744f1f6ab",
      "613410dc4e704f34aaaf28f45500219e",
      "a3454f3fccbc4c6a9dff57eba277b69d",
      "196c2305dc054cc9a516799d9355427c",
      "3f0a0591d99f428789760f555a96eca1",
      "1d78210c5dc54af98eb49c6f061ee5d5",
      "548b2f5fa247453b884d0e5e45b4c0b8",
      "d3d7814fbef24d2ea383d9ff3b1fd145",
      "42c859ccbc6043769ebf5b25929fe39f",
      "30c5c3f1ccf84b99b0dd6b95bdb03992",
      "0999a40d7f4b4706be7271fb11fae6af",
      "4f9ef78a4ca94bd89a664e97821df5b6"
     ]
    },
    "id": "82c55295",
    "outputId": "95ecc0aa-67ec-4ff2-9edc-3824a66506d8"
   },
   "outputs": [
    {
     "data": {
      "application/vnd.jupyter.widget-view+json": {
       "model_id": "150e3b36d3454fcc9bd562c9cbf8f4f8",
       "version_major": 2,
       "version_minor": 0
      },
      "text/plain": [
       "tokenizer_config.json:   0%|          | 0.00/48.0 [00:00<?, ?B/s]"
      ]
     },
     "metadata": {},
     "output_type": "display_data"
    },
    {
     "data": {
      "application/vnd.jupyter.widget-view+json": {
       "model_id": "552da4f318974d90a24f290ede564111",
       "version_major": 2,
       "version_minor": 0
      },
      "text/plain": [
       "config.json:   0%|          | 0.00/483 [00:00<?, ?B/s]"
      ]
     },
     "metadata": {},
     "output_type": "display_data"
    },
    {
     "data": {
      "application/vnd.jupyter.widget-view+json": {
       "model_id": "3228c59bcbd1461980d68bac795c7238",
       "version_major": 2,
       "version_minor": 0
      },
      "text/plain": [
       "vocab.txt:   0%|          | 0.00/232k [00:00<?, ?B/s]"
      ]
     },
     "metadata": {},
     "output_type": "display_data"
    },
    {
     "data": {
      "application/vnd.jupyter.widget-view+json": {
       "model_id": "613410dc4e704f34aaaf28f45500219e",
       "version_major": 2,
       "version_minor": 0
      },
      "text/plain": [
       "tokenizer.json:   0%|          | 0.00/466k [00:00<?, ?B/s]"
      ]
     },
     "metadata": {},
     "output_type": "display_data"
    }
   ],
   "source": [
    "from transformers import AutoTokenizer\n",
    "\n",
    "tokenizer = AutoTokenizer.from_pretrained(\"distilbert/distilbert-base-uncased\")"
   ]
  },
  {
   "cell_type": "code",
   "execution_count": 5,
   "id": "a1d6a70c",
   "metadata": {
    "id": "a1d6a70c"
   },
   "outputs": [],
   "source": [
    "def preprocess_function(examples):\n",
    "    return tokenizer(examples[\"text\"], truncation=True)"
   ]
  },
  {
   "cell_type": "code",
   "execution_count": 6,
   "id": "cb5485e5",
   "metadata": {
    "colab": {
     "base_uri": "https://localhost:8080/",
     "height": 113,
     "referenced_widgets": [
      "3381c830232e44d5af928a6e50202cb1",
      "8cb1e8a6adc14285ac2a53342ba47459",
      "98bd609eb14049edb98d464d3a9c1293",
      "cf1cfc0d37414b6ba5c9f292966ba381",
      "9eafffbab89a41a39a6c6ab35a83e9b7",
      "c5340d9f4279481980675fe682dcb52e",
      "b7baf7a6e2f24d1e8c6db468b7afed22",
      "9e68e1f40a7a44e0822c00445ed00e15",
      "e95728d1570c47cb805012583014dc44",
      "99421040a2234399bbee7da8657f75d0",
      "b9d9089c7a4d4357a40f97c14400d8b7",
      "681b03ea4df749ba8350b7cd97bd2b6e",
      "f8aaaeaca90d489f82a813af77707553",
      "b914a53bbb1d43a69392dc18ce628168",
      "5d4d32e1bd2c4ac188f8aad791251c30",
      "a11e6fec401e44f9a0e188865d1f7364",
      "8717a5b426464caabf7a7d506522e137",
      "132aa428cdb84702b45406e9cf2a6229",
      "5720e8f2db274a07b56d1698fe9b2f01",
      "3856049395e04ec895657d7da0580471",
      "20d80df34556466085a1f22b00b63eef",
      "e8a65bdf340a4d5e99d10b5bce2bb787",
      "2980507eb1694ff6aab28280588c9598",
      "c5e06528d82c4fc594cd584270803074",
      "4c98887711d54df79c97cd174b0c4d06",
      "017bcad49c6d459b8c6a5741016ebdb5",
      "bbec56b0b2f844588a061b768b309731",
      "7ad5cefd366e4d7f9e35afd0e4bf83b2",
      "7c617b4752a74c508d5d3cd81a50c0f4",
      "03608194e10e4c0d91707e5f27c01edc",
      "1b761b2853f0454385e5bf89b393d846",
      "2d7de7f633ce497bbba5d997ff2ff21b",
      "a991d5a6a3614dca995153df9b05f6d9"
     ]
    },
    "id": "cb5485e5",
    "outputId": "d967af0d-dd90-4f79-8006-e0bd98794285"
   },
   "outputs": [
    {
     "data": {
      "application/vnd.jupyter.widget-view+json": {
       "model_id": "3381c830232e44d5af928a6e50202cb1",
       "version_major": 2,
       "version_minor": 0
      },
      "text/plain": [
       "Map:   0%|          | 0/25000 [00:00<?, ? examples/s]"
      ]
     },
     "metadata": {},
     "output_type": "display_data"
    },
    {
     "data": {
      "application/vnd.jupyter.widget-view+json": {
       "model_id": "681b03ea4df749ba8350b7cd97bd2b6e",
       "version_major": 2,
       "version_minor": 0
      },
      "text/plain": [
       "Map:   0%|          | 0/25000 [00:00<?, ? examples/s]"
      ]
     },
     "metadata": {},
     "output_type": "display_data"
    },
    {
     "data": {
      "application/vnd.jupyter.widget-view+json": {
       "model_id": "2980507eb1694ff6aab28280588c9598",
       "version_major": 2,
       "version_minor": 0
      },
      "text/plain": [
       "Map:   0%|          | 0/50000 [00:00<?, ? examples/s]"
      ]
     },
     "metadata": {},
     "output_type": "display_data"
    }
   ],
   "source": [
    "tokenized_imdb = imdb.map(preprocess_function, batched=True)"
   ]
  },
  {
   "cell_type": "code",
   "execution_count": 7,
   "id": "53bf1bde",
   "metadata": {
    "id": "53bf1bde"
   },
   "outputs": [],
   "source": [
    "from transformers import DataCollatorWithPadding\n",
    "\n",
    "data_collator = DataCollatorWithPadding(tokenizer=tokenizer)"
   ]
  },
  {
   "cell_type": "code",
   "execution_count": 8,
   "id": "f2336e7c",
   "metadata": {
    "colab": {
     "base_uri": "https://localhost:8080/",
     "height": 145,
     "referenced_widgets": [
      "082342b20ffa48fabc67bbfac143ab11",
      "ba2cc69f98bf4fbe8cd213bf1e765399",
      "1cfa649de2814368aec53ef2bc320ba5",
      "8ca0883e2c4744e7936e99d35f55e076",
      "cbd9fb13abd2421b84e682842ee2ed37",
      "03eae6f514b84882bf4d41731b4d63b5",
      "75e596cee80646c5b375698e0d8d05aa",
      "26cf878bafd74dad84967010d012ee46",
      "8414c0c749484d0c98d008747522c7f9",
      "907de8df04e94022be7e5e4b9f3c0daa",
      "f5f15773d34e4d6a8138817423828fc6",
      "bd2124d584a142a2a9271f9e991ec621",
      "a3f6c01f88e449f4aa9385ae9c010b14",
      "24a0b9bbd70e4c9295426e589059e2c3",
      "337ad0dcf1984b6e9fe20a2f0fa9831e",
      "10bc8b2b89af4cc08112ed4b54ffb98b",
      "a46c22aeb02c4dc2aaa18a8bb2f6e938",
      "021539088d854eb492857247ad18573a",
      "9ac1001de09346c2b7207471653605c4",
      "47b755888b3a4d2180bcfa8685a7b294",
      "183a1864c3ac4a4683d028c200dedbd6",
      "c30450427a924aadb8e219fd8283ea40",
      "f1c9fc8dfe654caba46f7e81034a3251",
      "2836fb279b2a4615bc54696c40477f4a",
      "4bde20b973304dd9965d6b32116f9b82",
      "e3cd72e94fba44e5b618a4c0a9020f9b",
      "f1a280e331d648dda8f5fe51fbd2859d",
      "f1941fc7667c4097af21e0ec23a2ab46",
      "f1ba0ec154514ec3ae67be7a32b12a37",
      "debe282097d34cf3b67332a1f633f0a0",
      "337e4fd82416483ba7b3f6dd54f52ac7",
      "6159ed74cac3448a96d5843eacc8af3f",
      "d430eaf2e799459caca11c60b7830b62",
      "ee15e64c145841b3b08d18a9596d9d7d",
      "dca45171ff8945b8b430f4bf49931640",
      "4c3b2a53ec8d49d19fbdcc9fa8dfc5a2",
      "196bdd712e3b428194021fd0d5030f49",
      "cd92f11867f646dc9deda2ad43f39e9c",
      "b49e42070e5f4f8692f75b6a8f077f74",
      "56aa09e0a86042828dee4c859e6d8f0f",
      "6e60f4e15c3b49f9909094352da5e15a",
      "7a53a4dddd0f4abb86ee63c33560a344",
      "9ad0c301bcae4e22910b8f5586ac9c2e",
      "841289e1645340a3a7e476759447cd93"
     ]
    },
    "id": "f2336e7c",
    "outputId": "91b5d5df-ad74-40f4-c417-0e044b49a942"
   },
   "outputs": [
    {
     "data": {
      "application/vnd.jupyter.widget-view+json": {
       "model_id": "082342b20ffa48fabc67bbfac143ab11",
       "version_major": 2,
       "version_minor": 0
      },
      "text/plain": [
       "Downloading builder script:   0%|          | 0.00/4.20k [00:00<?, ?B/s]"
      ]
     },
     "metadata": {},
     "output_type": "display_data"
    },
    {
     "data": {
      "application/vnd.jupyter.widget-view+json": {
       "model_id": "bd2124d584a142a2a9271f9e991ec621",
       "version_major": 2,
       "version_minor": 0
      },
      "text/plain": [
       "Downloading builder script:   0%|          | 0.00/6.79k [00:00<?, ?B/s]"
      ]
     },
     "metadata": {},
     "output_type": "display_data"
    },
    {
     "data": {
      "application/vnd.jupyter.widget-view+json": {
       "model_id": "f1c9fc8dfe654caba46f7e81034a3251",
       "version_major": 2,
       "version_minor": 0
      },
      "text/plain": [
       "Downloading builder script:   0%|          | 0.00/7.56k [00:00<?, ?B/s]"
      ]
     },
     "metadata": {},
     "output_type": "display_data"
    },
    {
     "data": {
      "application/vnd.jupyter.widget-view+json": {
       "model_id": "ee15e64c145841b3b08d18a9596d9d7d",
       "version_major": 2,
       "version_minor": 0
      },
      "text/plain": [
       "Downloading builder script:   0%|          | 0.00/7.38k [00:00<?, ?B/s]"
      ]
     },
     "metadata": {},
     "output_type": "display_data"
    }
   ],
   "source": [
    "import evaluate\n",
    "\n",
    "accuracy = evaluate.load(\"accuracy\")\n",
    "f1 = evaluate.load(\"f1\")\n",
    "precision = evaluate.load(\"precision\")\n",
    "recall = evaluate.load(\"recall\")"
   ]
  },
  {
   "cell_type": "code",
   "execution_count": 9,
   "id": "5c780036",
   "metadata": {
    "id": "5c780036"
   },
   "outputs": [],
   "source": [
    "import numpy as np\n",
    "\n",
    "def compute_metrics(eval_pred):\n",
    "    predictions, labels = eval_pred\n",
    "    predictions = np.argmax(predictions, axis=1)\n",
    "    return {\n",
    "        'accuracy': accuracy.compute(predictions=predictions, references=labels),\n",
    "        'f1': f1.compute(predictions=predictions, references=labels),\n",
    "        'precision': precision.compute(predictions=predictions, references=labels),\n",
    "        'recall': recall.compute(predictions=predictions, references=labels)\n",
    "    }"
   ]
  },
  {
   "cell_type": "code",
   "execution_count": 10,
   "id": "44d9c3c1",
   "metadata": {
    "id": "44d9c3c1"
   },
   "outputs": [],
   "source": [
    "id2label = {0: \"NEGATIVE\", 1: \"POSITIVE\"}\n",
    "label2id = {\"NEGATIVE\": 0, \"POSITIVE\": 1}"
   ]
  },
  {
   "cell_type": "code",
   "execution_count": 11,
   "id": "b32164cd",
   "metadata": {
    "colab": {
     "base_uri": "https://localhost:8080/",
     "height": 138,
     "referenced_widgets": [
      "5ca38fe5313542afb542405e483baacd",
      "336fa80e0b1545209bb7d09b354f262c",
      "29107fa1061042f6befda3e48c8a5799",
      "31b25fd67ea5446ea48256f46c4c8ad3",
      "75ff562143cc4538b6ea5be005df9ad9",
      "0b49612e595d43d59c2f123426db86f5",
      "a1819d5fa9d14ecb95cccbc478225361",
      "e7aebc7e21e74fde86bcd8e5a25c5d31",
      "f521f4f7946c4a1880b6b93776af2611",
      "51910d4d987848e5b4850890291eddc7",
      "1dae2913ff2744099ce1f5b39213867b"
     ]
    },
    "id": "b32164cd",
    "outputId": "75380ba6-6860-4739-beee-d0bd86b976f6"
   },
   "outputs": [
    {
     "name": "stderr",
     "output_type": "stream",
     "text": [
      "Xet Storage is enabled for this repo, but the 'hf_xet' package is not installed. Falling back to regular HTTP download. For better performance, install the package with: `pip install huggingface_hub[hf_xet]` or `pip install hf_xet`\n",
      "WARNING:huggingface_hub.file_download:Xet Storage is enabled for this repo, but the 'hf_xet' package is not installed. Falling back to regular HTTP download. For better performance, install the package with: `pip install huggingface_hub[hf_xet]` or `pip install hf_xet`\n"
     ]
    },
    {
     "data": {
      "application/vnd.jupyter.widget-view+json": {
       "model_id": "5ca38fe5313542afb542405e483baacd",
       "version_major": 2,
       "version_minor": 0
      },
      "text/plain": [
       "model.safetensors:   0%|          | 0.00/268M [00:00<?, ?B/s]"
      ]
     },
     "metadata": {},
     "output_type": "display_data"
    },
    {
     "name": "stderr",
     "output_type": "stream",
     "text": [
      "Some weights of DistilBertForSequenceClassification were not initialized from the model checkpoint at distilbert/distilbert-base-uncased and are newly initialized: ['classifier.bias', 'classifier.weight', 'pre_classifier.bias', 'pre_classifier.weight']\n",
      "You should probably TRAIN this model on a down-stream task to be able to use it for predictions and inference.\n"
     ]
    }
   ],
   "source": [
    "from transformers import AutoModelForSequenceClassification, TrainingArguments, Trainer\n",
    "\n",
    "model = AutoModelForSequenceClassification.from_pretrained(\n",
    "    \"distilbert/distilbert-base-uncased\", num_labels=2, id2label=id2label, label2id=label2id\n",
    ")"
   ]
  },
  {
   "cell_type": "code",
   "execution_count": 12,
   "id": "c25b8eb7",
   "metadata": {
    "colab": {
     "base_uri": "https://localhost:8080/",
     "height": 172
    },
    "id": "c25b8eb7",
    "outputId": "4087f748-75e4-409c-f985-5ff2882b185c"
   },
   "outputs": [
    {
     "data": {
      "text/html": [
       "\n",
       "    <div>\n",
       "      \n",
       "      <progress value='6250' max='6250' style='width:300px; height:20px; vertical-align: middle;'></progress>\n",
       "      [6250/6250 49:24, Epoch 2/2]\n",
       "    </div>\n",
       "    <table border=\"1\" class=\"dataframe\">\n",
       "  <thead>\n",
       " <tr style=\"text-align: left;\">\n",
       "      <th>Epoch</th>\n",
       "      <th>Training Loss</th>\n",
       "      <th>Validation Loss</th>\n",
       "      <th>Accuracy</th>\n",
       "      <th>F1</th>\n",
       "      <th>Precision</th>\n",
       "      <th>Recall</th>\n",
       "    </tr>\n",
       "  </thead>\n",
       "  <tbody>\n",
       "    <tr>\n",
       "      <td>1</td>\n",
       "      <td>0.273000</td>\n",
       "      <td>0.330103</td>\n",
       "      <td>{'accuracy': 0.88976}</td>\n",
       "      <td>{'f1': 0.8803715600312527}</td>\n",
       "      <td>{'precision': 0.9623268172328715}</td>\n",
       "      <td>{'recall': 0.81128}</td>\n",
       "    </tr>\n",
       "    <tr>\n",
       "      <td>2</td>\n",
       "      <td>0.143800</td>\n",
       "      <td>0.292549</td>\n",
       "      <td>{'accuracy': 0.9292}</td>\n",
       "      <td>{'f1': 0.9288756730691955}</td>\n",
       "      <td>{'precision': 0.9331503310188923}</td>\n",
       "      <td>{'recall': 0.92464}</td>\n",
       "    </tr>\n",
       "  </tbody>\n",
       "</table><p>"
      ],
      "text/plain": [
       "<IPython.core.display.HTML object>"
      ]
     },
     "metadata": {},
     "output_type": "display_data"
    },
    {
     "data": {
      "text/plain": [
       "TrainOutput(global_step=6250, training_loss=0.23894158020019532, metrics={'train_runtime': 2965.8658, 'train_samples_per_second': 16.858, 'train_steps_per_second': 2.107, 'total_flos': 6243221615506944.0, 'train_loss': 0.23894158020019532, 'epoch': 2.0})"
      ]
     },
     "execution_count": 12,
     "metadata": {},
     "output_type": "execute_result"
    }
   ],
   "source": [
    "training_args = TrainingArguments(\n",
    "    output_dir=\"./results\",\n",
    "    eval_strategy=\"epoch\",\n",
    "    num_train_epochs=2,\n",
    "    report_to=\"none\",\n",
    ")\n",
    "\n",
    "trainer = Trainer(\n",
    "    model=model,\n",
    "    args=training_args,\n",
    "    train_dataset=tokenized_imdb[\"train\"],\n",
    "    eval_dataset=tokenized_imdb[\"test\"],\n",
    "    processing_class=tokenizer,\n",
    "    data_collator=data_collator,\n",
    "    compute_metrics=compute_metrics,\n",
    ")\n",
    "\n",
    "trainer.train()"
   ]
  }
 ],
 "metadata": {
  "accelerator": "GPU",
  "colab": {
   "gpuType": "T4",
   "provenance": []
  },
  "kernelspec": {
   "display_name": "Python 3",
   "name": "python3"
  },
  "language_info": {
   "codemirror_mode": {
    "name": "ipython",
    "version": 3
   },
   "file_extension": ".py",
   "mimetype": "text/x-python",
   "name": "python",
   "nbconvert_exporter": "python",
   "pygments_lexer": "ipython3",
   "version": "3.9.12"
  }
 },
 "nbformat": 4,
 "nbformat_minor": 5
}
