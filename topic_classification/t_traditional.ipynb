{
 "cells": [
  {
   "cell_type": "markdown",
   "id": "7e19be6a",
   "metadata": {},
   "source": [
    "Prepare Data"
   ]
  },
  {
   "cell_type": "code",
   "execution_count": 1,
   "id": "3ce57ad4",
   "metadata": {},
   "outputs": [],
   "source": [
    "import pandas as pd\n",
    "from sklearn.datasets import fetch_20newsgroups\n",
    "from sklearn.feature_extraction.text import TfidfVectorizer\n",
    "from sklearn.model_selection import train_test_split\n",
    "from sklearn.metrics import classification_report, accuracy_score"
   ]
  },
  {
   "cell_type": "code",
   "execution_count": 2,
   "id": "7c767b4f",
   "metadata": {},
   "outputs": [
    {
     "name": "stdout",
     "output_type": "stream",
     "text": [
      "                                                text  label\n",
      "0  \\n\\nI am sure some bashers of Pens fans are pr...     10\n",
      "1  My brother is in the market for a high-perform...      3\n",
      "2  \\n\\n\\n\\n\\tFinally you said what you dream abou...     17\n",
      "3  \\nThink!\\n\\nIt's the SCSI card doing the DMA t...      3\n",
      "4  1)    I have an old Jasmine drive which I cann...      4\n"
     ]
    }
   ],
   "source": [
    "from sklearn.datasets import fetch_20newsgroups\n",
    "newsgroups = fetch_20newsgroups(subset='all', remove=('headers', 'footers', 'quotes'))\n",
    "\n",
    "# Extract data and labels\n",
    "data = newsgroups.data\n",
    "labels = newsgroups.target\n",
    "target_names = newsgroups.target_names\n",
    "df = pd.DataFrame({\n",
    "    'text': data,\n",
    "    'label': labels\n",
    "})\n",
    "\n",
    "print(df.head())\n"
   ]
  },
  {
   "cell_type": "markdown",
   "id": "1b91d471",
   "metadata": {},
   "source": [
    "Text Vectorization"
   ]
  },
  {
   "cell_type": "code",
   "execution_count": 13,
   "id": "4630a014",
   "metadata": {},
   "outputs": [],
   "source": [
    "X_train, X_test, y_train, y_test = train_test_split(\n",
    "    df['text'], df['label'], test_size=0.2, random_state=420, stratify=df['label']\n",
    ")\n",
    "vectorizer = TfidfVectorizer()\n",
    "X_train_vec = vectorizer.fit_transform(X_train)\n",
    "X_test_vec = vectorizer.transform(X_test)\n"
   ]
  },
  {
   "cell_type": "markdown",
   "id": "5dbcc97c",
   "metadata": {},
   "source": [
    "SVM"
   ]
  },
  {
   "cell_type": "code",
   "execution_count": 14,
   "id": "9ebd7f19",
   "metadata": {},
   "outputs": [
    {
     "name": "stdout",
     "output_type": "stream",
     "text": [
      "SVM Accuracy: 0.7636604774535809\n",
      "                          precision    recall  f1-score   support\n",
      "\n",
      "             alt.atheism       0.65      0.63      0.64       160\n",
      "           comp.graphics       0.73      0.74      0.73       195\n",
      " comp.os.ms-windows.misc       0.73      0.73      0.73       197\n",
      "comp.sys.ibm.pc.hardware       0.76      0.74      0.75       196\n",
      "   comp.sys.mac.hardware       0.77      0.76      0.76       193\n",
      "          comp.windows.x       0.85      0.83      0.84       198\n",
      "            misc.forsale       0.79      0.87      0.83       195\n",
      "               rec.autos       0.55      0.84      0.66       198\n",
      "         rec.motorcycles       0.84      0.76      0.80       199\n",
      "      rec.sport.baseball       0.90      0.76      0.83       199\n",
      "        rec.sport.hockey       0.89      0.86      0.88       200\n",
      "               sci.crypt       0.81      0.77      0.79       198\n",
      "         sci.electronics       0.76      0.74      0.75       197\n",
      "                 sci.med       0.85      0.85      0.85       198\n",
      "               sci.space       0.81      0.80      0.80       197\n",
      "  soc.religion.christian       0.72      0.83      0.77       199\n",
      "      talk.politics.guns       0.67      0.69      0.68       182\n",
      "   talk.politics.mideast       0.90      0.83      0.86       188\n",
      "      talk.politics.misc       0.70      0.59      0.64       155\n",
      "      talk.religion.misc       0.64      0.48      0.55       126\n",
      "\n",
      "                accuracy                           0.76      3770\n",
      "               macro avg       0.77      0.76      0.76      3770\n",
      "            weighted avg       0.77      0.76      0.76      3770\n",
      "\n"
     ]
    }
   ],
   "source": [
    "from sklearn.svm import LinearSVC\n",
    "\n",
    "svm = LinearSVC()\n",
    "svm.fit(X_train_vec, y_train)\n",
    "\n",
    "# 6. Predict and evaluate\n",
    "y_pred = svm.predict(X_test_vec)\n",
    "\n",
    "print(\"SVM Accuracy:\", accuracy_score(y_test, y_pred))\n",
    "print(classification_report(y_test, y_pred, target_names=target_names))"
   ]
  },
  {
   "cell_type": "markdown",
   "id": "28b0c4b6",
   "metadata": {},
   "source": [
    "KNN"
   ]
  },
  {
   "cell_type": "code",
   "execution_count": 15,
   "id": "176b5e42",
   "metadata": {},
   "outputs": [
    {
     "name": "stdout",
     "output_type": "stream",
     "text": [
      "KNN Accuracy: 0.1156498673740053\n",
      "                          precision    recall  f1-score   support\n",
      "\n",
      "             alt.atheism       0.08      0.24      0.12       160\n",
      "           comp.graphics       0.09      0.21      0.13       195\n",
      " comp.os.ms-windows.misc       0.08      0.25      0.12       197\n",
      "comp.sys.ibm.pc.hardware       0.11      0.13      0.12       196\n",
      "   comp.sys.mac.hardware       0.07      0.13      0.09       193\n",
      "          comp.windows.x       0.25      0.08      0.12       198\n",
      "            misc.forsale       0.19      0.13      0.16       195\n",
      "               rec.autos       0.03      0.05      0.04       198\n",
      "         rec.motorcycles       0.13      0.08      0.10       199\n",
      "      rec.sport.baseball       0.09      0.12      0.10       199\n",
      "        rec.sport.hockey       0.23      0.12      0.16       200\n",
      "               sci.crypt       0.17      0.10      0.12       198\n",
      "         sci.electronics       0.15      0.06      0.08       197\n",
      "                 sci.med       0.24      0.11      0.15       198\n",
      "               sci.space       0.09      0.06      0.07       197\n",
      "  soc.religion.christian       0.30      0.09      0.14       199\n",
      "      talk.politics.guns       0.21      0.07      0.10       182\n",
      "   talk.politics.mideast       0.41      0.14      0.21       188\n",
      "      talk.politics.misc       0.25      0.08      0.12       155\n",
      "      talk.religion.misc       0.17      0.07      0.10       126\n",
      "\n",
      "                accuracy                           0.12      3770\n",
      "               macro avg       0.17      0.12      0.12      3770\n",
      "            weighted avg       0.17      0.12      0.12      3770\n",
      "\n"
     ]
    }
   ],
   "source": [
    "from sklearn.neighbors import KNeighborsClassifier\n",
    "knn = KNeighborsClassifier(n_neighbors=5)\n",
    "knn.fit(X_train_vec, y_train)\n",
    "\n",
    "y_pred = knn.predict(X_test_vec)\n",
    "\n",
    "print(\"KNN Accuracy:\", accuracy_score(y_test, y_pred))\n",
    "print(classification_report(y_test, y_pred, target_names=target_names))"
   ]
  },
  {
   "cell_type": "markdown",
   "id": "d10109ec",
   "metadata": {},
   "source": [
    "Random Forest"
   ]
  },
  {
   "cell_type": "code",
   "execution_count": 16,
   "id": "c6c302bb",
   "metadata": {},
   "outputs": [
    {
     "name": "stdout",
     "output_type": "stream",
     "text": [
      "Random Forest Accuracy: 0.6424403183023872\n",
      "                          precision    recall  f1-score   support\n",
      "\n",
      "             alt.atheism       0.50      0.35      0.41       160\n",
      "           comp.graphics       0.57      0.61      0.59       195\n",
      " comp.os.ms-windows.misc       0.59      0.70      0.64       197\n",
      "comp.sys.ibm.pc.hardware       0.61      0.64      0.62       196\n",
      "   comp.sys.mac.hardware       0.68      0.64      0.66       193\n",
      "          comp.windows.x       0.78      0.72      0.75       198\n",
      "            misc.forsale       0.71      0.82      0.76       195\n",
      "               rec.autos       0.44      0.73      0.55       198\n",
      "         rec.motorcycles       0.57      0.66      0.61       199\n",
      "      rec.sport.baseball       0.64      0.72      0.68       199\n",
      "        rec.sport.hockey       0.80      0.81      0.80       200\n",
      "               sci.crypt       0.71      0.68      0.70       198\n",
      "         sci.electronics       0.63      0.42      0.50       197\n",
      "                 sci.med       0.77      0.69      0.73       198\n",
      "               sci.space       0.72      0.69      0.70       197\n",
      "  soc.religion.christian       0.59      0.79      0.68       199\n",
      "      talk.politics.guns       0.57      0.66      0.61       182\n",
      "   talk.politics.mideast       0.83      0.76      0.79       188\n",
      "      talk.politics.misc       0.74      0.33      0.46       155\n",
      "      talk.religion.misc       0.54      0.15      0.24       126\n",
      "\n",
      "                accuracy                           0.64      3770\n",
      "               macro avg       0.65      0.63      0.62      3770\n",
      "            weighted avg       0.65      0.64      0.63      3770\n",
      "\n"
     ]
    }
   ],
   "source": [
    "from sklearn.ensemble import RandomForestClassifier\n",
    "\n",
    "# Train the model\n",
    "rf = RandomForestClassifier(n_estimators=100, random_state=420)\n",
    "rf.fit(X_train_vec, y_train)\n",
    "\n",
    "# 6. Predict and evaluate\n",
    "y_pred_rf = rf.predict(X_test_vec)\n",
    "\n",
    "print(\"Random Forest Accuracy:\", accuracy_score(y_test, y_pred_rf))\n",
    "print(classification_report(y_test, y_pred_rf, target_names=target_names))"
   ]
  },
  {
   "cell_type": "markdown",
   "id": "6900ff37",
   "metadata": {},
   "source": [
    "Decision Tree"
   ]
  },
  {
   "cell_type": "code",
   "execution_count": 11,
   "id": "24cc6123",
   "metadata": {},
   "outputs": [
    {
     "name": "stdout",
     "output_type": "stream",
     "text": [
      "\n",
      "=== Decision Tree ===\n",
      "Accuracy: 0.29310344827586204\n",
      "                          precision    recall  f1-score   support\n",
      "\n",
      "             alt.atheism       0.23      0.07      0.11       160\n",
      "           comp.graphics       0.69      0.17      0.27       195\n",
      " comp.os.ms-windows.misc       0.68      0.42      0.52       197\n",
      "comp.sys.ibm.pc.hardware       0.52      0.15      0.24       196\n",
      "   comp.sys.mac.hardware       0.70      0.40      0.51       193\n",
      "          comp.windows.x       0.75      0.18      0.29       198\n",
      "            misc.forsale       0.74      0.38      0.50       195\n",
      "               rec.autos       0.70      0.35      0.47       198\n",
      "         rec.motorcycles       0.90      0.23      0.36       199\n",
      "      rec.sport.baseball       0.81      0.11      0.19       199\n",
      "        rec.sport.hockey       0.61      0.53      0.57       200\n",
      "               sci.crypt       0.93      0.43      0.59       198\n",
      "         sci.electronics       0.06      0.01      0.01       197\n",
      "                 sci.med       0.08      0.96      0.15       198\n",
      "               sci.space       0.79      0.31      0.45       197\n",
      "  soc.religion.christian       0.60      0.38      0.46       199\n",
      "      talk.politics.guns       0.67      0.19      0.30       182\n",
      "   talk.politics.mideast       0.94      0.35      0.51       188\n",
      "      talk.politics.misc       0.00      0.00      0.00       155\n",
      "      talk.religion.misc       0.22      0.03      0.06       126\n",
      "\n",
      "                accuracy                           0.29      3770\n",
      "               macro avg       0.58      0.28      0.33      3770\n",
      "            weighted avg       0.60      0.29      0.34      3770\n",
      "\n"
     ]
    }
   ],
   "source": [
    "from sklearn.tree import DecisionTreeClassifier\n",
    "\n",
    "# 5. Decision Tree\n",
    "dt = DecisionTreeClassifier(max_depth=20, random_state=420)\n",
    "dt.fit(X_train_vec, y_train)\n",
    "y_pred_dt = dt.predict(X_test_vec)\n",
    "\n",
    "print(\"\\n=== Decision Tree ===\")\n",
    "print(\"Accuracy:\", accuracy_score(y_test, y_pred_dt))\n",
    "print(classification_report(y_test, y_pred_dt, target_names=target_names))\n"
   ]
  }
 ],
 "metadata": {
  "kernelspec": {
   "display_name": "Python 3",
   "language": "python",
   "name": "python3"
  },
  "language_info": {
   "codemirror_mode": {
    "name": "ipython",
    "version": 3
   },
   "file_extension": ".py",
   "mimetype": "text/x-python",
   "name": "python",
   "nbconvert_exporter": "python",
   "pygments_lexer": "ipython3",
   "version": "3.10.11"
  }
 },
 "nbformat": 4,
 "nbformat_minor": 5
}
